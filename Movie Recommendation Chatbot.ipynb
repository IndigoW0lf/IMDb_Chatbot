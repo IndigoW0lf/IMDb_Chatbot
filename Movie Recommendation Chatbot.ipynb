{
 "cells": [
  {
   "cell_type": "markdown",
   "id": "0c6eeae8",
   "metadata": {},
   "source": [
    "# Movie Recommendation Chatbot\n",
    "\n",
    "This Jupyter notebook contains a basic chatbot that recommends movies based on the genre. The chatbot can identify a genre in a user's message and recommend a random movie of that genre. The user can also ask for a random movie or choose a new genre.\n"
   ]
  },
  {
   "cell_type": "markdown",
   "id": "4f2eb495",
   "metadata": {},
   "source": [
    "## Imports and Setup\n",
    "\n",
    "Here, we import the necessary libraries and perform the setup required for the project."
   ]
  },
  {
   "cell_type": "code",
   "execution_count": null,
   "id": "1b204dd5",
   "metadata": {},
   "outputs": [],
   "source": [
    "import pandas as pd\n",
    "import matplotlib.pyplot as plt\n",
    "import random\n",
    "import nltk\n",
    "nltk.download('punkt')"
   ]
  },
  {
   "cell_type": "markdown",
   "id": "bf191e0d",
   "metadata": {},
   "source": [
    "## Data Loading and Processing\n",
    "\n",
    "In this section, we load and process the IMDb dataset. The dataset is cleaned to remove any rows with missing genre or title information."
   ]
  },
  {
   "cell_type": "code",
   "execution_count": null,
   "id": "104824e4",
   "metadata": {},
   "outputs": [],
   "source": [
    "# Read the dataset\n",
    "movies_df = pd.read_csv('Movie Recommendation Chatbot.csv')"
   ]
  },
  {
   "cell_type": "code",
   "execution_count": null,
   "id": "6393197a",
   "metadata": {},
   "outputs": [],
   "source": [
    "print(movies_df.columns)"
   ]
  },
  {
   "cell_type": "code",
   "execution_count": null,
   "id": "6c558811",
   "metadata": {},
   "outputs": [],
   "source": [
    "# Drop rows with missing values in 'Genre' or 'Series_Title' columns\n",
    "movies_df = movies_df.dropna(subset=['Genre', 'Series_Title'])"
   ]
  },
  {
   "cell_type": "markdown",
   "id": "317f4b23",
   "metadata": {},
   "source": [
    "## Identifying Unique Genres\n",
    "\n",
    "Now that we have cleaned our data, we need to identify all the unique genres present in the dataset. This will be important for our movie recommendation function, which needs to verify whether the genre input by the user is present in the dataset.\n",
    "\n",
    "We'll extract all unique genres and store them in a set for easy and fast checking of whether a particular genre exists."
   ]
  },
  {
   "cell_type": "code",
   "execution_count": null,
   "id": "1effb10f",
   "metadata": {},
   "outputs": [],
   "source": [
    "# Extract unique genres from the dataset\n",
    "unique_genres = set()\n",
    "\n",
    "for genre_str in movies_df['Genre']:\n",
    "    genres = genre_str.split(',')\n",
    "    unique_genres.update([genre.strip().lower() for genre in genres])\n",
    "\n",
    "print(unique_genres)"
   ]
  },
  {
   "cell_type": "markdown",
   "id": "0afa686b",
   "metadata": {},
   "source": [
    "## Data Exploration\n",
    "\n",
    "In this section, we will explore our IMDb movie dataset. Exploratory data analysis (EDA) is a critical step in any data science project. It helps us understand the structure of the data, identify outliers, extract insights, and formulate appropriate data preprocessing strategies.\n",
    "\n",
    "Let's start by looking at the distribution of movies across genres in our dataset. This will give us a sense of the diversity of movie genres available for recommendations.\n",
    "\n",
    "Understanding the distribution can also help inform us of the potential biases our movie recommendation system might have. For instance, if our dataset contains more Action movies compared to other genres, our chatbot might end up recommending more Action movies."
   ]
  },
  {
   "cell_type": "code",
   "execution_count": null,
   "id": "170d8a32",
   "metadata": {},
   "outputs": [],
   "source": [
    "import matplotlib.pyplot as plt\n",
    "\n",
    "# Split the genres and count each genre separately\n",
    "genre_counts = movies_df['Genre'].str.split(',').explode().str.strip().value_counts()\n",
    "\n",
    "# Take the top 20 genres\n",
    "top_genres = genre_counts[:20]\n",
    "\n",
    "# Create a bar plot\n",
    "plt.figure(figsize=(15, 7))\n",
    "plt.bar(top_genres.index, top_genres.values, color='skyblue')\n",
    "plt.title('Number of Movies by Genre (Top 20)')\n",
    "plt.xlabel('Genre')\n",
    "plt.ylabel('Number of Movies')\n",
    "plt.xticks(rotation=45)\n",
    "plt.show()\n"
   ]
  },
  {
   "cell_type": "markdown",
   "id": "6082134a",
   "metadata": {},
   "source": [
    "The bar plot above shows the number of movies available in our dataset for each genre. \n",
    "\n",
    "From this visualization, we can infer that drama is by far the most popular genre, and that all genres not listed have fewer than ~20 movies listed in this dataset.\n",
    "\n",
    "Next, we will use this understanding of our data to build our chatbot, aiming to provide diverse movie recommendations based on user input. If the user selects 'Drama' as their genre, the chatbot will ask for a secondary genre to help narrow down suggestions for the user."
   ]
  },
  {
   "cell_type": "markdown",
   "id": "727033eb",
   "metadata": {},
   "source": [
    "## Function Definitions\n",
    "\n",
    "Here, we define several functions that our chatbot will use:\n",
    "\n",
    "- `recommend_movie(genre)`: Given a genre, this function returns a movie from that genre.\n",
    "- `identify_genres(message)`: This function tokenizes a user's message and identifies any movie genres."
   ]
  },
  {
   "cell_type": "code",
   "execution_count": null,
   "id": "2946cc6b",
   "metadata": {},
   "outputs": [],
   "source": [
    "def recommend_movie(user_genre):\n",
    "    user_genre = user_genre.lower()\n",
    "    \n",
    "    if user_genre not in unique_genres:\n",
    "        print(\"This genre is not recognized. Please enter another one.\")\n",
    "        return None\n",
    "\n",
    "    if user_genre == 'drama':\n",
    "        print(\"Drama is a broad genre. Could you provide a second genre to narrow down the recommendations?\")\n",
    "        secondary_genre = input(\"Please enter a secondary genre: \").strip().lower()\n",
    "        genre_movies = movies_df[movies_df['Genre'].apply(lambda x: user_genre in x.lower() and secondary_genre in x.lower())]\n",
    "    else:\n",
    "        genre_movies = movies_df[movies_df['Genre'].apply(lambda x: user_genre in x.lower())]\n",
    "        \n",
    "    if genre_movies.empty:\n",
    "        print(f\"We don't have any movies in the genre {user_genre} right now. Please try another genre.\")\n",
    "        return None\n",
    "\n",
    "    movie = genre_movies.sample(1)\n",
    "    movie_title = movie['Series_Title'].values[0]\n",
    "    movie_genre = movie['Genre'].values[0]\n",
    "    movie_star1 = movie['Star1'].values[0]\n",
    "    movie_star2 = movie['Star2'].values[0]\n",
    "\n",
    "    print(f\"\\nHow about the movie '{movie_title}'? It's a {movie_genre} movie starring {movie_star1} and {movie_star2}. Enjoy!\")\n"
   ]
  },
  {
   "cell_type": "code",
   "execution_count": null,
   "id": "a21532d2",
   "metadata": {},
   "outputs": [],
   "source": [
    "def identify_genres(message):\n",
    "    # Tokenize the message into words\n",
    "    words = nltk.word_tokenize(message)\n",
    "    \n",
    "    # Identify genres in the list of words\n",
    "    identified_genres = [word for word in words if word.lower() in unique_genres]\n",
    "    \n",
    "    return identified_genres"
   ]
  },
  {
   "cell_type": "markdown",
   "id": "2a36dd11",
   "metadata": {},
   "source": [
    "## Main Chatbot Function\n",
    "\n",
    "The `run_chatbot()` function is where the main loop of our chatbot lives. It takes user input, identifies commands and genres in the input, and responds with appropriate messages."
   ]
  },
  {
   "cell_type": "code",
   "execution_count": null,
   "id": "5ec13c3f",
   "metadata": {},
   "outputs": [],
   "source": [
    "def run_chatbot():\n",
    "    print(\"Hello! I can recommend movies for you. What genre would you like me to pick from?\")\n",
    "    print(\"You can also type 'shuffle' for a random movie or 'new genre' to choose a new genre.\")\n",
    "    print(\"Type 'quit' at any time to stop.\")\n",
    "\n",
    "    genre = None\n",
    "\n",
    "    while True:\n",
    "        user_message = input()\n",
    "\n",
    "        if user_message.lower() == 'quit':\n",
    "            print(\"Goodbye!\")\n",
    "            break\n",
    "        elif user_message.lower() == 'shuffle':\n",
    "            movie_recommendation = recommend_movie(random.choice(list(unique_genres)))\n",
    "            print(movie_recommendation)\n",
    "            continue\n",
    "        elif user_message.lower() == 'new genre':\n",
    "            genre = None\n",
    "            print(\"Okay, tell me a new genre you like.\")\n",
    "            continue\n",
    "\n",
    "        if not genre:\n",
    "            identified_genres = identify_genres(user_message)\n",
    "\n",
    "            if not identified_genres:\n",
    "                print(\"I couldn't identify a genre in your message. Here are some genres you can choose from:\")\n",
    "                print(random.sample(list(unique_genres), 10))  # print 10 random genres\n",
    "                continue\n",
    "            else:\n",
    "                # For simplicity, we'll just use the first genre identified\n",
    "                genre = identified_genres[0]\n",
    "\n",
    "        movie_recommendation = recommend_movie(genre)\n",
    "        print(movie_recommendation)\n"
   ]
  },
  {
   "cell_type": "markdown",
   "id": "107bc143",
   "metadata": {},
   "source": [
    "## Running the Chatbot\n",
    "\n",
    "Now, we can start a conversation with the chatbot! Type your message in the input box when prompted. You can ask for a movie recommendation by genre, request a random movie with 'shuffle', or choose a new genre with 'new genre'. To stop the chatbot, simply type 'quit'."
   ]
  },
  {
   "cell_type": "code",
   "execution_count": null,
   "id": "37b5e489",
   "metadata": {
    "scrolled": true
   },
   "outputs": [],
   "source": [
    "run_chatbot()"
   ]
  },
  {
   "cell_type": "markdown",
   "id": "6e782c6c",
   "metadata": {},
   "source": [
    "## Lessons Learned and Future Improvements\n",
    "\n",
    "Through this project, I learned the importance of data cleaning and preprocessing, especially when working with text data like movie genres. I also learned how to build a simple interactive chatbot and gained experience with various Python libraries such as pandas and matplotlib. I also practiced using lambda functions.\n",
    "\n",
    "There were challenges along the way, such as ensuring the chatbot can handle various user inputs robustly. I overcame this by carefully considering different possible inputs the user could give and handling each case in the code.\n",
    "\n",
    "In the future, this project could be expanded in several ways:\n",
    "\n",
    "1. **More Personalization**: The chatbot could remember users' past preferences to tailor future recommendations. \n",
    "\n",
    "2. **Adding More Movie Information**: We could make use of more information in the dataset, such as director, duration, or IMDB rating, to provide more detailed recommendations.\n",
    "\n",
    "3. **User Feedback**: We could allow users to give feedback on the recommendations, which could be used to further refine the recommendations.\n",
    "\n",
    "4. **Multiple Recommendations**: The chatbot could provide multiple movie recommendations at once, giving the user more choices.\n",
    "\n",
    "This project was a great learning experience and I look forward to applying these lessons in future data science projects.\n"
   ]
  },
  {
   "cell_type": "code",
   "execution_count": null,
   "id": "baaa2dad",
   "metadata": {},
   "outputs": [],
   "source": []
  }
 ],
 "metadata": {
  "kernelspec": {
   "display_name": "Python 3 (ipykernel)",
   "language": "python",
   "name": "python3"
  },
  "language_info": {
   "codemirror_mode": {
    "name": "ipython",
    "version": 3
   },
   "file_extension": ".py",
   "mimetype": "text/x-python",
   "name": "python",
   "nbconvert_exporter": "python",
   "pygments_lexer": "ipython3",
   "version": "3.9.13"
  }
 },
 "nbformat": 4,
 "nbformat_minor": 5
}
